{
 "cells": [
  {
   "cell_type": "code",
   "execution_count": 1,
   "metadata": {},
   "outputs": [],
   "source": [
    "import numpy as np"
   ]
  },
  {
   "cell_type": "code",
   "execution_count": 2,
   "metadata": {},
   "outputs": [],
   "source": [
    "def cargar_datos(ruta_archivo):\n",
    "    # Carga los datos del archivo CSV utilizando NumPy\n",
    "    datos = np.genfromtxt(ruta_archivo, delimiter=',', skip_header=1)\n",
    "    return datos"
   ]
  },
  {
   "cell_type": "code",
   "execution_count": 3,
   "metadata": {},
   "outputs": [
    {
     "name": "stdout",
     "output_type": "stream",
     "text": [
      "[[   1.   nan   nan ...    3.   50.  150.]\n",
      " [   2.   nan   nan ...    2.  500. 1000.]\n",
      " [   3.   nan   nan ...    1.   30.   30.]\n",
      " ...\n",
      " [ 998.   nan   nan ...    4.   25.  100.]\n",
      " [ 999.   nan   nan ...    3.   50.  150.]\n",
      " [1000.   nan   nan ...    4.   30.  120.]]\n"
     ]
    }
   ],
   "source": [
    "if __name__ == \"__main__\":\n",
    "    ruta_archivo = '../data/retail_sales_dataset.csv'\n",
    "    datos = cargar_datos(ruta_archivo)\n",
    "    print(datos)"
   ]
  },
  {
   "cell_type": "markdown",
   "metadata": {},
   "source": [
    "### Exploración de Datos:\n",
    "* Calcula el total de ventas por categoría de producto.\n",
    "* Calcula el promedio de ventas diarias por categoría de producto.\n",
    "* Identifica las categorías de productos con mayores y menores ventas.\n"
   ]
  },
  {
   "cell_type": "code",
   "execution_count": 13,
   "metadata": {},
   "outputs": [],
   "source": [
    "import pandas as pd"
   ]
  },
  {
   "cell_type": "code",
   "execution_count": 14,
   "metadata": {},
   "outputs": [],
   "source": [
    "df = pd.read_csv('../data/retail_sales_dataset.csv')"
   ]
  },
  {
   "cell_type": "code",
   "execution_count": 15,
   "metadata": {},
   "outputs": [
    {
     "name": "stdout",
     "output_type": "stream",
     "text": [
      "  Product Category  Total Amount\n",
      "0           Beauty        143515\n",
      "1         Clothing        155580\n",
      "2      Electronics        156905\n"
     ]
    }
   ],
   "source": [
    "suma = df.groupby('Product Category')['Total Amount'].sum().reset_index()\n",
    "print(suma)"
   ]
  },
  {
   "cell_type": "code",
   "execution_count": 17,
   "metadata": {},
   "outputs": [
    {
     "name": "stdout",
     "output_type": "stream",
     "text": [
      "           Date Product Category  Total Amount\n",
      "0    2023-01-01           Beauty          1500\n",
      "1    2023-01-01         Clothing          2100\n",
      "2    2023-01-02           Beauty            25\n",
      "3    2023-01-02         Clothing          1650\n",
      "4    2023-01-02      Electronics            90\n",
      "..          ...              ...           ...\n",
      "650  2023-12-29           Beauty          3300\n",
      "651  2023-12-29      Electronics           100\n",
      "652  2023-12-31      Electronics            50\n",
      "653  2024-01-01           Beauty          1500\n",
      "654  2024-01-01      Electronics            30\n",
      "\n",
      "[655 rows x 3 columns]\n"
     ]
    }
   ],
   "source": [
    "ventas_diarias = df.groupby(['Date', 'Product Category'])['Total Amount'].sum().reset_index()\n",
    "print(ventas_diarias)\n"
   ]
  },
  {
   "cell_type": "code",
   "execution_count": 18,
   "metadata": {},
   "outputs": [
    {
     "name": "stdout",
     "output_type": "stream",
     "text": [
      "  Product Category  Total Amount\n",
      "0           Beauty    703.504902\n",
      "1         Clothing    670.603448\n",
      "2      Electronics    716.461187\n"
     ]
    }
   ],
   "source": [
    "promedio_ventas_diarias = ventas_diarias.groupby('Product Category')['Total Amount'].mean().reset_index()\n",
    "print(promedio_ventas_diarias)"
   ]
  },
  {
   "cell_type": "code",
   "execution_count": 20,
   "metadata": {},
   "outputs": [
    {
     "name": "stdout",
     "output_type": "stream",
     "text": [
      "Product Category    Electronics\n",
      "Total Amount             156905\n",
      "Name: 2, dtype: object\n",
      "Product Category    Beauty\n",
      "Total Amount        143515\n",
      "Name: 0, dtype: object\n"
     ]
    }
   ],
   "source": [
    "ventas_por_categoria = df.groupby('Product Category')['Total Amount'].sum().reset_index()\n",
    "ventas_por_categoria = ventas_por_categoria.sort_values(by='Total Amount', ascending=False)\n",
    "\n",
    "mayor_venta = ventas_por_categoria.iloc[0] \n",
    "menor_venta = ventas_por_categoria.iloc[-1]\n",
    "print(mayor_venta) \n",
    "print(menor_venta)"
   ]
  },
  {
   "cell_type": "markdown",
   "metadata": {},
   "source": [
    "### Manipulación de Datos:\n",
    "* Filtra los datos para mostrar solo las ventas de una categoría de producto específica.\n",
    "* Realiza operaciones de suma, resta, multiplicación y división en los datos para obtener estadísticas adicionales."
   ]
  },
  {
   "cell_type": "code",
   "execution_count": 24,
   "metadata": {},
   "outputs": [
    {
     "name": "stdout",
     "output_type": "stream",
     "text": [
      "     Transaction ID        Date Customer ID  Gender  Age Product Category  \\\n",
      "2                 3  2023-01-13     CUST003    Male   50      Electronics   \n",
      "7                 8  2023-02-22     CUST008    Male   30      Electronics   \n",
      "8                 9  2023-12-13     CUST009    Male   63      Electronics   \n",
      "12               13  2023-08-05     CUST013    Male   22      Electronics   \n",
      "14               15  2023-01-16     CUST015  Female   42      Electronics   \n",
      "..              ...         ...         ...     ...  ...              ...   \n",
      "988             989  2023-12-28     CUST989  Female   44      Electronics   \n",
      "991             992  2023-08-21     CUST992  Female   57      Electronics   \n",
      "992             993  2023-02-06     CUST993  Female   48      Electronics   \n",
      "998             999  2023-12-05     CUST999  Female   36      Electronics   \n",
      "999            1000  2023-04-12    CUST1000    Male   47      Electronics   \n",
      "\n",
      "     Quantity  Price per Unit  Total Amount  Suma  Resta  Multiplicación  \\\n",
      "2           1              30            30    31     29              30   \n",
      "7           4              25           100   104     96             400   \n",
      "8           2             300           600   602    598            1200   \n",
      "12          3             500          1500  1503   1497            4500   \n",
      "14          4             500          2000  2004   1996            8000   \n",
      "..        ...             ...           ...   ...    ...             ...   \n",
      "988         1              25            25    26     24              25   \n",
      "991         2              30            60    62     58             120   \n",
      "992         3              50           150   153    147             450   \n",
      "998         3              50           150   153    147             450   \n",
      "999         4              30           120   124    116             480   \n",
      "\n",
      "     División  \n",
      "2        30.0  \n",
      "7        25.0  \n",
      "8       300.0  \n",
      "12      500.0  \n",
      "14      500.0  \n",
      "..        ...  \n",
      "988      25.0  \n",
      "991      30.0  \n",
      "992      50.0  \n",
      "998      50.0  \n",
      "999      30.0  \n",
      "\n",
      "[342 rows x 13 columns]\n"
     ]
    }
   ],
   "source": [
    "\n",
    "categoria = 'Electronics'\n",
    "ventas_categoria_filtradas = df[df['Product Category'] == categoria]\n",
    "print(ventas_categoria_filtradas)"
   ]
  },
  {
   "cell_type": "code",
   "execution_count": null,
   "metadata": {},
   "outputs": [],
   "source": [
    "df['Suma'] = df['Total Amount'] + df['Quantity']\n",
    "df['Resta'] = df['Total Amount'] - df['Quantity']\n",
    "df['Multiplicación'] = df['Total Amount'] * df['Quantity']\n",
    "df['División'] = df['Total Amount'] / df['Quantity'].replace(0, np.nan) \n",
    "\n",
    "estadisticas = df[['Suma', 'Resta', 'Multiplicación', 'División']].describe()\n",
    "print(estadisticas)"
   ]
  }
 ],
 "metadata": {
  "kernelspec": {
   "display_name": "Python 3",
   "language": "python",
   "name": "python3"
  },
  "language_info": {
   "codemirror_mode": {
    "name": "ipython",
    "version": 3
   },
   "file_extension": ".py",
   "mimetype": "text/x-python",
   "name": "python",
   "nbconvert_exporter": "python",
   "pygments_lexer": "ipython3",
   "version": "3.10.12"
  }
 },
 "nbformat": 4,
 "nbformat_minor": 2
}
